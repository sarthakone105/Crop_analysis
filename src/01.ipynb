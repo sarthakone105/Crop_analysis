{
 "cells": [
  {
   "cell_type": "code",
   "execution_count": null,
   "metadata": {},
   "outputs": [],
   "source": [
    "import geopandas as gpd\n",
    "import geemap\n",
    "import ee\n",
    "\n",
    "# Initialize the Earth Engine module.\n",
    "ee.Initialize()\n",
    "\n",
    "# Read the shapefile\n",
    "shapefile_path = '../shp/AOI_02.shp'\n",
    "gdf = gpd.read_file(shapefile_path)\n",
    "\n",
    "# Convert the GeoDataFrame to GeoJSON\n",
    "geojson = gdf.to_json()\n",
    "\n",
    "# Convert the GeoJSON to an Earth Engine object\n",
    "aoi = geemap.geojson_to_ee(geojson)"
   ]
  },
  {
   "cell_type": "code",
   "execution_count": null,
   "metadata": {},
   "outputs": [],
   "source": [
    "# Load Sentinel-2 imagery\n",
    "sentinel2 = ee.ImageCollection('COPERNICUS/S2') \\\n",
    "    .filterBounds(aoi) \\\n",
    "    .filterDate('2023-01-01', '2023-12-31') \\\n",
    "    .filter(ee.Filter.lt('CLOUDY_PIXEL_PERCENTAGE', 20))\n",
    "\n",
    "# Composite the images\n",
    "composite = sentinel2.median()\n",
    "\n",
    "\n",
    "# Define training data (manually created polygons for different classes)\n",
    "# Example coordinates for training polygons, you will need to define your own\n",
    "training_polygons = ee.FeatureCollection([\n",
    "    ee.Feature(ee.Geometry.Polygon([[longitude1, latitude1], [longitude2, latitude2], [longitude3, latitude3], [longitude4, latitude4]]), {'class': 0}),  # Fallow land\n",
    "    ee.Feature(ee.Geometry.Polygon([[longitude5, latitude5], [longitude6, latitude6], [longitude7, latitude7], [longitude8, latitude8]]), {'class': 1})   # Horticulture crops\n",
    "])"
   ]
  },
  {
   "cell_type": "code",
   "execution_count": null,
   "metadata": {},
   "outputs": [],
   "source": [
    "# Sample the input imagery to get a FeatureCollection of training data\n",
    "training = composite.sampleRegions(collection=training_polygons, properties=['class'], scale=10)"
   ]
  },
  {
   "cell_type": "code",
   "execution_count": null,
   "metadata": {},
   "outputs": [],
   "source": [
    "# Train a classifier\n",
    "classifier = ee.Classifier.smileRandomForest(10).train(features=training, classProperty='class', inputProperties=composite.bandNames())\n",
    "\n",
    "# Classify the composite\n",
    "classified = composite.classify(classifier)"
   ]
  },
  {
   "cell_type": "code",
   "execution_count": null,
   "metadata": {},
   "outputs": [],
   "source": [
    "# Visualize the results using geemap\n",
    "Map = geemap.Map()\n",
    "Map.centerObject(aoi, 10)\n",
    "Map.addLayer(composite, {'bands': ['B4', 'B3', 'B2'], 'max': 3000}, 'Sentinel-2')\n",
    "Map.addLayer(classified, {'min': 0, 'max': 1, 'palette': ['blue', 'green']}, 'Classified')\n",
    "Map"
   ]
  }
 ],
 "metadata": {
  "language_info": {
   "name": "python"
  }
 },
 "nbformat": 4,
 "nbformat_minor": 2
}
