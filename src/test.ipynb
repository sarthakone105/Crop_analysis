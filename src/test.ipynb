{
 "cells": [
  {
   "cell_type": "code",
   "execution_count": 39,
   "metadata": {},
   "outputs": [],
   "source": [
    "import ee\n",
    "import ee\n",
    "import geopandas as gpd\n",
    "import datetime\n",
    "import folium\n",
    "import geemap\n",
    "import datetime\n",
    "import pandas as pd"
   ]
  },
  {
   "cell_type": "code",
   "execution_count": 67,
   "metadata": {},
   "outputs": [],
   "source": [
    "ee.Initialize()\n",
    "\n",
    "\n",
    "shapefile_path = '/home/satyukt/Sarthak/Crop_analysis/shp/AOI_02.shp'\n",
    "gdf = gpd.read_file(shapefile_path)\n",
    "\n",
    "\n",
    "geojson_dict = gdf.iloc[0].geometry.__geo_interface__\n",
    "\n",
    "aoi = ee.Geometry(geojson_dict)\n",
    "\n",
    "\n",
    "sentinel2 = ee.ImageCollection('COPERNICUS/S2_SR_HARMONIZED').filterBounds(aoi) \n",
    "bands = [\"B2\", \"B3\", \"B4\", \"B8\", \"NDVI\"]\n",
    "def calculateNDVI(image):\n",
    "    ndvi = image.normalizedDifference(['B8', 'B4']).rename('NDVI')\n",
    "    return image.addBands(ndvi)\n",
    "\n"
   ]
  },
  {
   "cell_type": "code",
   "execution_count": 91,
   "metadata": {},
   "outputs": [
    {
     "data": {
      "text/plain": [
       "720615741.6492114"
      ]
     },
     "execution_count": 91,
     "metadata": {},
     "output_type": "execute_result"
    }
   ],
   "source": [
    "gdf_trash = gdf.to_crs(3857)\n",
    "gdf_trash.area.values[0]"
   ]
  },
  {
   "cell_type": "code",
   "execution_count": 68,
   "metadata": {},
   "outputs": [],
   "source": [
    "start_date =datetime.datetime.strptime(\"2022-01-01\", \"%Y-%m-%d\")\n",
    "\n",
    "ndvi_list = []\n",
    "\n",
    "for i in range(48):\n",
    "    \n",
    "    end_date = start_date + datetime.timedelta(days=14)\n",
    "    filtered = sentinel2.filterDate(start_date, end_date).map(calculateNDVI).qualityMosaic('NDVI').select(bands)\n",
    "    start_date = end_date\n",
    "    ndvi_list.append(filtered)"
   ]
  },
  {
   "cell_type": "code",
   "execution_count": 69,
   "metadata": {},
   "outputs": [],
   "source": [
    "stack_image = ee.Image(ndvi_list[0])\n",
    "\n",
    "for i in range(1, len(ndvi_list)):\n",
    "    stack_image = stack_image.addBands(ndvi_list[i])"
   ]
  },
  {
   "cell_type": "code",
   "execution_count": 70,
   "metadata": {},
   "outputs": [],
   "source": [
    "crop_gdf = gpd.read_file('/home/satyukt/Sarthak/Crop_analysis/shp/crop.shp')\n",
    "crop_gdf.columns = ['id', 'Class', 'geometry']"
   ]
  },
  {
   "cell_type": "code",
   "execution_count": 109,
   "metadata": {},
   "outputs": [],
   "source": [
    "water_gdf = gpd.read_file(\"/home/satyukt/Sarthak/Crop_analysis/shp/water.shp\")\n",
    "water_gdf[\"Class\"] = 4\n"
   ]
  },
  {
   "cell_type": "code",
   "execution_count": 110,
   "metadata": {},
   "outputs": [
    {
     "data": {
      "text/html": [
       "<div>\n",
       "<style scoped>\n",
       "    .dataframe tbody tr th:only-of-type {\n",
       "        vertical-align: middle;\n",
       "    }\n",
       "\n",
       "    .dataframe tbody tr th {\n",
       "        vertical-align: top;\n",
       "    }\n",
       "\n",
       "    .dataframe thead th {\n",
       "        text-align: right;\n",
       "    }\n",
       "</style>\n",
       "<table border=\"1\" class=\"dataframe\">\n",
       "  <thead>\n",
       "    <tr style=\"text-align: right;\">\n",
       "      <th></th>\n",
       "      <th>id</th>\n",
       "      <th>geometry</th>\n",
       "      <th>Class</th>\n",
       "    </tr>\n",
       "  </thead>\n",
       "  <tbody>\n",
       "    <tr>\n",
       "      <th>0</th>\n",
       "      <td>1</td>\n",
       "      <td>POLYGON ((82.68078 17.60864, 82.68238 17.60865...</td>\n",
       "      <td>4</td>\n",
       "    </tr>\n",
       "    <tr>\n",
       "      <th>1</th>\n",
       "      <td>2</td>\n",
       "      <td>POLYGON ((82.67193 17.59451, 82.66982 17.59516...</td>\n",
       "      <td>4</td>\n",
       "    </tr>\n",
       "    <tr>\n",
       "      <th>2</th>\n",
       "      <td>3</td>\n",
       "      <td>POLYGON ((82.67550 17.58850, 82.67670 17.58908...</td>\n",
       "      <td>4</td>\n",
       "    </tr>\n",
       "    <tr>\n",
       "      <th>3</th>\n",
       "      <td>4</td>\n",
       "      <td>POLYGON ((82.68849 17.61500, 82.68859 17.61505...</td>\n",
       "      <td>4</td>\n",
       "    </tr>\n",
       "    <tr>\n",
       "      <th>4</th>\n",
       "      <td>5</td>\n",
       "      <td>POLYGON ((82.69004 17.61602, 82.69018 17.61608...</td>\n",
       "      <td>4</td>\n",
       "    </tr>\n",
       "    <tr>\n",
       "      <th>...</th>\n",
       "      <td>...</td>\n",
       "      <td>...</td>\n",
       "      <td>...</td>\n",
       "    </tr>\n",
       "    <tr>\n",
       "      <th>74</th>\n",
       "      <td>73</td>\n",
       "      <td>POLYGON ((82.96621 17.47314, 82.96560 17.47570...</td>\n",
       "      <td>3</td>\n",
       "    </tr>\n",
       "    <tr>\n",
       "      <th>75</th>\n",
       "      <td>74</td>\n",
       "      <td>POLYGON ((82.95092 17.47945, 82.95154 17.47940...</td>\n",
       "      <td>3</td>\n",
       "    </tr>\n",
       "    <tr>\n",
       "      <th>76</th>\n",
       "      <td>75</td>\n",
       "      <td>POLYGON ((82.94817 17.47880, 82.94941 17.47891...</td>\n",
       "      <td>3</td>\n",
       "    </tr>\n",
       "    <tr>\n",
       "      <th>77</th>\n",
       "      <td>76</td>\n",
       "      <td>POLYGON ((82.95182 17.47277, 82.95189 17.47242...</td>\n",
       "      <td>3</td>\n",
       "    </tr>\n",
       "    <tr>\n",
       "      <th>78</th>\n",
       "      <td>77</td>\n",
       "      <td>POLYGON ((82.94016 17.47491, 82.94280 17.47454...</td>\n",
       "      <td>3</td>\n",
       "    </tr>\n",
       "  </tbody>\n",
       "</table>\n",
       "<p>178 rows × 3 columns</p>\n",
       "</div>"
      ],
      "text/plain": [
       "    id                                           geometry  Class\n",
       "0    1  POLYGON ((82.68078 17.60864, 82.68238 17.60865...      4\n",
       "1    2  POLYGON ((82.67193 17.59451, 82.66982 17.59516...      4\n",
       "2    3  POLYGON ((82.67550 17.58850, 82.67670 17.58908...      4\n",
       "3    4  POLYGON ((82.68849 17.61500, 82.68859 17.61505...      4\n",
       "4    5  POLYGON ((82.69004 17.61602, 82.69018 17.61608...      4\n",
       "..  ..                                                ...    ...\n",
       "74  73  POLYGON ((82.96621 17.47314, 82.96560 17.47570...      3\n",
       "75  74  POLYGON ((82.95092 17.47945, 82.95154 17.47940...      3\n",
       "76  75  POLYGON ((82.94817 17.47880, 82.94941 17.47891...      3\n",
       "77  76  POLYGON ((82.95182 17.47277, 82.95189 17.47242...      3\n",
       "78  77  POLYGON ((82.94016 17.47491, 82.94280 17.47454...      3\n",
       "\n",
       "[178 rows x 3 columns]"
      ]
     },
     "execution_count": 110,
     "metadata": {},
     "output_type": "execute_result"
    }
   ],
   "source": [
    "classes = pd.concat([water_gdf, crop_gdf])\n",
    "# classes['geometry'] = classes['geometry'].centroid\n",
    "classes"
   ]
  },
  {
   "cell_type": "code",
   "execution_count": 111,
   "metadata": {},
   "outputs": [],
   "source": [
    "classes.to_file(\"/home/satyukt/Sarthak/Crop_analysis/shp/classes_poly.shp\")"
   ]
  },
  {
   "cell_type": "code",
   "execution_count": 96,
   "metadata": {},
   "outputs": [],
   "source": [
    "train = geemap.geopandas_to_ee(classes)"
   ]
  },
  {
   "cell_type": "code",
   "execution_count": 104,
   "metadata": {},
   "outputs": [],
   "source": [
    "classestraining = stack_image.sampleRegions(\n",
    "    collection=train,\n",
    "    properties=['Class'],\n",
    "    scale=10\n",
    ")\n",
    "trained_classifier = ee.Classifier.smileRandomForest(100).train(\n",
    "    features=classestraining,\n",
    "    classProperty=\"Class\",\n",
    "    inputProperties=stack_image.bandNames(),\n",
    ")\n",
    "classified = stack_image.classify(trained_classifier).toInt()\n"
   ]
  },
  {
   "cell_type": "code",
   "execution_count": 80,
   "metadata": {},
   "outputs": [
    {
     "data": {
      "text/plain": [
       "4"
      ]
     },
     "execution_count": 80,
     "metadata": {},
     "output_type": "execute_result"
    }
   ],
   "source": [
    "prop = training.first().getInfo()[\"properties\"]\n",
    "prop[\"Class\"]"
   ]
  },
  {
   "cell_type": "code",
   "execution_count": 82,
   "metadata": {},
   "outputs": [],
   "source": [
    "Map = geemap.Map()"
   ]
  },
  {
   "cell_type": "code",
   "execution_count": 107,
   "metadata": {},
   "outputs": [
    {
     "name": "stdout",
     "output_type": "stream",
     "text": [
      "Generating URL ...\n",
      "Downloading data from https://earthengine.googleapis.com/v1alpha/projects/earthengine-legacy/thumbnails/412148ef478bbf6e436d508afec90c66-150e4fb38271829f84036489f7b453fb:getPixels\n",
      "Please wait ...\n",
      "An error occurred while downloading.\n"
     ]
    }
   ],
   "source": [
    "geemap.ee_export_image(classified,\n",
    "                       filename=\"/home/satyukt/Desktop/classified.tif\",\n",
    "                       scale=10,\n",
    "                       crs=\"EPSG:4326\",\n",
    "                       region=aoi)"
   ]
  },
  {
   "cell_type": "code",
   "execution_count": null,
   "metadata": {},
   "outputs": [],
   "source": []
  }
 ],
 "metadata": {
  "kernelspec": {
   "display_name": "Python 3",
   "language": "python",
   "name": "python3"
  },
  "language_info": {
   "codemirror_mode": {
    "name": "ipython",
    "version": 3
   },
   "file_extension": ".py",
   "mimetype": "text/x-python",
   "name": "python",
   "nbconvert_exporter": "python",
   "pygments_lexer": "ipython3",
   "version": "3.10.12"
  }
 },
 "nbformat": 4,
 "nbformat_minor": 2
}
